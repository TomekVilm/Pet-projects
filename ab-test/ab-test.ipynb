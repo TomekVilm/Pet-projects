{
 "cells": [
  {
   "cell_type": "code",
   "execution_count": 28,
   "metadata": {
    "execution": {
     "iopub.execute_input": "2025-02-27T15:36:32.334460Z",
     "iopub.status.busy": "2025-02-27T15:36:32.334086Z",
     "iopub.status.idle": "2025-02-27T15:36:32.339806Z",
     "shell.execute_reply": "2025-02-27T15:36:32.338464Z",
     "shell.execute_reply.started": "2025-02-27T15:36:32.334428Z"
    },
    "trusted": true
   },
   "outputs": [],
   "source": [
    "#импортируем библиотеки\n",
    "import pandas as pd\n",
    "import os\n",
    "import matplotlib.pyplot as plt\n",
    "import seaborn as sns\n",
    "from scipy.stats import mannwhitneyu\n",
    "import numpy as np\n",
    "from scipy.stats import ttest_ind\n"
   ]
  },
  {
   "cell_type": "code",
   "execution_count": 29,
   "metadata": {
    "execution": {
     "iopub.execute_input": "2025-02-27T15:36:32.341885Z",
     "iopub.status.busy": "2025-02-27T15:36:32.341487Z",
     "iopub.status.idle": "2025-02-27T15:36:32.504156Z",
     "shell.execute_reply": "2025-02-27T15:36:32.503252Z",
     "shell.execute_reply.started": "2025-02-27T15:36:32.341846Z"
    },
    "trusted": true
   },
   "outputs": [],
   "source": [
    "df = pd.read_csv(\"/kaggle/input/grocery-website-data-for-ab-test/grocerywebsiteabtestdata.csv\")\n"
   ]
  },
  {
   "cell_type": "markdown",
   "metadata": {},
   "source": [
    "Смотрим статистику"
   ]
  },
  {
   "cell_type": "code",
   "execution_count": 30,
   "metadata": {
    "execution": {
     "iopub.execute_input": "2025-02-27T15:36:32.506307Z",
     "iopub.status.busy": "2025-02-27T15:36:32.505922Z",
     "iopub.status.idle": "2025-02-27T15:36:32.512282Z",
     "shell.execute_reply": "2025-02-27T15:36:32.511059Z",
     "shell.execute_reply.started": "2025-02-27T15:36:32.506275Z"
    },
    "trusted": true
   },
   "outputs": [],
   "source": [
    "def df_stats(data):\n",
    "    print(\"***РАЗМЕР***\")\n",
    "    print(\"Строк: {}\".format(data.shape[0]))\n",
    "    print(\"Столбцов: {}\".format(data.shape[1]))\n",
    "    print(\"***ТИПЫ ДАННЫХ***\")\n",
    "    print(data.dtypes)\n",
    "    print(\"***ПРОПУЩЕННЫЕ ЗНАЧЕНИЯ***\")\n",
    "    print(data.isnull().sum())\n",
    "    print(\"***ЧИСЛО ДУБЛИКАТОВ***\")\n",
    "    print(\"Количество дубликатов: {}\".format(data.duplicated().sum()))\n",
    "    "
   ]
  },
  {
   "cell_type": "code",
   "execution_count": 31,
   "metadata": {
    "execution": {
     "iopub.execute_input": "2025-02-27T15:36:32.514267Z",
     "iopub.status.busy": "2025-02-27T15:36:32.513916Z",
     "iopub.status.idle": "2025-02-27T15:36:32.606997Z",
     "shell.execute_reply": "2025-02-27T15:36:32.605717Z",
     "shell.execute_reply.started": "2025-02-27T15:36:32.514236Z"
    },
    "trusted": true
   },
   "outputs": [
    {
     "name": "stdout",
     "output_type": "stream",
     "text": [
      "***РАЗМЕР***\n",
      "Строк: 184588\n",
      "Столбцов: 5\n",
      "***ТИПЫ ДАННЫХ***\n",
      "RecordID          int64\n",
      "IP Address       object\n",
      "LoggedInFlag      int64\n",
      "ServerID          int64\n",
      "VisitPageFlag     int64\n",
      "dtype: object\n",
      "***ПРОПУЩЕННЫЕ ЗНАЧЕНИЯ***\n",
      "RecordID         0\n",
      "IP Address       0\n",
      "LoggedInFlag     0\n",
      "ServerID         0\n",
      "VisitPageFlag    0\n",
      "dtype: int64\n",
      "***ЧИСЛО ДУБЛИКАТОВ***\n",
      "Количество дубликатов: 0\n"
     ]
    }
   ],
   "source": [
    "df_stats(df)"
   ]
  },
  {
   "cell_type": "code",
   "execution_count": 32,
   "metadata": {
    "execution": {
     "iopub.execute_input": "2025-02-27T15:36:32.608433Z",
     "iopub.status.busy": "2025-02-27T15:36:32.608056Z",
     "iopub.status.idle": "2025-02-27T15:36:32.615703Z",
     "shell.execute_reply": "2025-02-27T15:36:32.614544Z",
     "shell.execute_reply.started": "2025-02-27T15:36:32.608401Z"
    },
    "trusted": true
   },
   "outputs": [
    {
     "name": "stdout",
     "output_type": "stream",
     "text": [
      "[0 1]\n",
      "10740\n"
     ]
    }
   ],
   "source": [
    "print(df[\"VisitPageFlag\"].unique())  # Посмотрим, какие есть уникальные значения\n",
    "print(df[\"VisitPageFlag\"].sum())  # Проверим, есть ли вообще ненулевые значения\n"
   ]
  },
  {
   "cell_type": "markdown",
   "metadata": {},
   "source": [
    "Посмотреть распределение пользователей по серверам:\n"
   ]
  },
  {
   "cell_type": "code",
   "execution_count": 33,
   "metadata": {
    "execution": {
     "iopub.execute_input": "2025-02-27T15:36:32.616883Z",
     "iopub.status.busy": "2025-02-27T15:36:32.616516Z",
     "iopub.status.idle": "2025-02-27T15:36:32.828996Z",
     "shell.execute_reply": "2025-02-27T15:36:32.827725Z",
     "shell.execute_reply.started": "2025-02-27T15:36:32.616856Z"
    },
    "trusted": true
   },
   "outputs": [
    {
     "name": "stdout",
     "output_type": "stream",
     "text": [
      "ServerID\n",
      "1    61591\n",
      "3    61534\n",
      "2    61463\n",
      "Name: count, dtype: int64\n"
     ]
    },
    {
     "data": {
      "text/plain": [
       "<Axes: ylabel='count'>"
      ]
     },
     "execution_count": 33,
     "metadata": {},
     "output_type": "execute_result"
    },
    {
     "data": {
      "image/png": "[encoded data removed]",
      "text/plain": [
       "<Figure size 640x480 with 1 Axes>"
      ]
     },
     "metadata": {},
     "output_type": "display_data"
    }
   ],
   "source": [
    "print(df[\"ServerID\"].value_counts())\n",
    "df[\"ServerID\"].value_counts().plot(kind=\"pie\", autopct=\"%.2f%%\")"
   ]
  },
  {
   "cell_type": "markdown",
   "metadata": {},
   "source": [
    "Проверить, различается ли поведение пользователей на серверах"
   ]
  },
  {
   "cell_type": "code",
   "execution_count": 34,
   "metadata": {
    "execution": {
     "iopub.execute_input": "2025-02-27T15:36:32.830575Z",
     "iopub.status.busy": "2025-02-27T15:36:32.830060Z",
     "iopub.status.idle": "2025-02-27T15:36:32.843010Z",
     "shell.execute_reply": "2025-02-27T15:36:32.841837Z",
     "shell.execute_reply.started": "2025-02-27T15:36:32.830530Z"
    },
    "trusted": true
   },
   "outputs": [
    {
     "data": {
      "text/plain": [
       "ServerID\n",
       "1    0.067640\n",
       "2    0.053300\n",
       "3    0.053596\n",
       "Name: VisitPageFlag, dtype: float64"
      ]
     },
     "execution_count": 34,
     "metadata": {},
     "output_type": "execute_result"
    }
   ],
   "source": [
    "df.groupby(\"ServerID\")[\"VisitPageFlag\"].mean()"
   ]
  },
  {
   "cell_type": "markdown",
   "metadata": {},
   "source": [
    "Серверы 2 и 3 могут быть одинаковыми, т.е. они работают как зеркала (обрабатывают один и тот же продукт).\n",
    "Это нужно для стабильности работы и балансировки нагрузки."
   ]
  },
  {
   "cell_type": "markdown",
   "metadata": {},
   "source": [
    "Не будем делать индекс в groupby(), используем as_index=False, чтобы при группировке он сам его не создавал:"
   ]
  },
  {
   "cell_type": "code",
   "execution_count": 35,
   "metadata": {
    "execution": {
     "iopub.execute_input": "2025-02-27T15:36:32.844284Z",
     "iopub.status.busy": "2025-02-27T15:36:32.843939Z",
     "iopub.status.idle": "2025-02-27T15:36:33.067519Z",
     "shell.execute_reply": "2025-02-27T15:36:33.066416Z",
     "shell.execute_reply.started": "2025-02-27T15:36:32.844250Z"
    },
    "trusted": true
   },
   "outputs": [],
   "source": [
    "df = df.groupby([\"IP Address\", \"LoggedInFlag\", \"ServerID\"], as_index=False)[\"VisitPageFlag\"].sum().rename(columns={\"VisitPageFlag\": \"VisitPageFlagSum\"})"
   ]
  },
  {
   "cell_type": "code",
   "execution_count": 36,
   "metadata": {
    "execution": {
     "iopub.execute_input": "2025-02-27T15:36:33.070554Z",
     "iopub.status.busy": "2025-02-27T15:36:33.070240Z",
     "iopub.status.idle": "2025-02-27T15:36:33.080197Z",
     "shell.execute_reply": "2025-02-27T15:36:33.079081Z",
     "shell.execute_reply.started": "2025-02-27T15:36:33.070529Z"
    },
    "trusted": true
   },
   "outputs": [
    {
     "data": {
      "text/html": [
       "<div>\n",
       "<style scoped>\n",
       "    .dataframe tbody tr th:only-of-type {\n",
       "        vertical-align: middle;\n",
       "    }\n",
       "\n",
       "    .dataframe tbody tr th {\n",
       "        vertical-align: top;\n",
       "    }\n",
       "\n",
       "    .dataframe thead th {\n",
       "        text-align: right;\n",
       "    }\n",
       "</style>\n",
       "<table border=\"1\" class=\"dataframe\">\n",
       "  <thead>\n",
       "    <tr style=\"text-align: right;\">\n",
       "      <th></th>\n",
       "      <th>IP Address</th>\n",
       "      <th>LoggedInFlag</th>\n",
       "      <th>ServerID</th>\n",
       "      <th>VisitPageFlagSum</th>\n",
       "    </tr>\n",
       "  </thead>\n",
       "  <tbody>\n",
       "    <tr>\n",
       "      <th>0</th>\n",
       "      <td>0.0.108.2</td>\n",
       "      <td>0</td>\n",
       "      <td>1</td>\n",
       "      <td>0</td>\n",
       "    </tr>\n",
       "    <tr>\n",
       "      <th>1</th>\n",
       "      <td>0.0.109.6</td>\n",
       "      <td>1</td>\n",
       "      <td>1</td>\n",
       "      <td>0</td>\n",
       "    </tr>\n",
       "    <tr>\n",
       "      <th>2</th>\n",
       "      <td>0.0.111.8</td>\n",
       "      <td>0</td>\n",
       "      <td>3</td>\n",
       "      <td>0</td>\n",
       "    </tr>\n",
       "    <tr>\n",
       "      <th>3</th>\n",
       "      <td>0.0.160.9</td>\n",
       "      <td>1</td>\n",
       "      <td>2</td>\n",
       "      <td>0</td>\n",
       "    </tr>\n",
       "    <tr>\n",
       "      <th>4</th>\n",
       "      <td>0.0.163.1</td>\n",
       "      <td>0</td>\n",
       "      <td>2</td>\n",
       "      <td>0</td>\n",
       "    </tr>\n",
       "  </tbody>\n",
       "</table>\n",
       "</div>"
      ],
      "text/plain": [
       "  IP Address  LoggedInFlag  ServerID  VisitPageFlagSum\n",
       "0  0.0.108.2             0         1                 0\n",
       "1  0.0.109.6             1         1                 0\n",
       "2  0.0.111.8             0         3                 0\n",
       "3  0.0.160.9             1         2                 0\n",
       "4  0.0.163.1             0         2                 0"
      ]
     },
     "execution_count": 36,
     "metadata": {},
     "output_type": "execute_result"
    }
   ],
   "source": [
    "df.head()"
   ]
  },
  {
   "cell_type": "code",
   "execution_count": 37,
   "metadata": {
    "execution": {
     "iopub.execute_input": "2025-02-27T15:36:33.081727Z",
     "iopub.status.busy": "2025-02-27T15:36:33.081453Z",
     "iopub.status.idle": "2025-02-27T15:36:33.105958Z",
     "shell.execute_reply": "2025-02-27T15:36:33.104923Z",
     "shell.execute_reply.started": "2025-02-27T15:36:33.081702Z"
    },
    "trusted": true
   },
   "outputs": [
    {
     "data": {
      "text/html": [
       "<div>\n",
       "<style scoped>\n",
       "    .dataframe tbody tr th:only-of-type {\n",
       "        vertical-align: middle;\n",
       "    }\n",
       "\n",
       "    .dataframe tbody tr th {\n",
       "        vertical-align: top;\n",
       "    }\n",
       "\n",
       "    .dataframe thead th {\n",
       "        text-align: right;\n",
       "    }\n",
       "</style>\n",
       "<table border=\"1\" class=\"dataframe\">\n",
       "  <thead>\n",
       "    <tr style=\"text-align: right;\">\n",
       "      <th></th>\n",
       "      <th>IP Address</th>\n",
       "      <th>LoggedInFlag</th>\n",
       "      <th>ServerID</th>\n",
       "      <th>VisitPageFlagSum</th>\n",
       "      <th>VisitPageFlag</th>\n",
       "    </tr>\n",
       "  </thead>\n",
       "  <tbody>\n",
       "    <tr>\n",
       "      <th>0</th>\n",
       "      <td>0.0.108.2</td>\n",
       "      <td>0</td>\n",
       "      <td>1</td>\n",
       "      <td>0</td>\n",
       "      <td>0</td>\n",
       "    </tr>\n",
       "    <tr>\n",
       "      <th>1</th>\n",
       "      <td>0.0.109.6</td>\n",
       "      <td>1</td>\n",
       "      <td>1</td>\n",
       "      <td>0</td>\n",
       "      <td>0</td>\n",
       "    </tr>\n",
       "    <tr>\n",
       "      <th>2</th>\n",
       "      <td>0.0.111.8</td>\n",
       "      <td>0</td>\n",
       "      <td>3</td>\n",
       "      <td>0</td>\n",
       "      <td>0</td>\n",
       "    </tr>\n",
       "    <tr>\n",
       "      <th>3</th>\n",
       "      <td>0.0.160.9</td>\n",
       "      <td>1</td>\n",
       "      <td>2</td>\n",
       "      <td>0</td>\n",
       "      <td>0</td>\n",
       "    </tr>\n",
       "    <tr>\n",
       "      <th>4</th>\n",
       "      <td>0.0.163.1</td>\n",
       "      <td>0</td>\n",
       "      <td>2</td>\n",
       "      <td>0</td>\n",
       "      <td>0</td>\n",
       "    </tr>\n",
       "  </tbody>\n",
       "</table>\n",
       "</div>"
      ],
      "text/plain": [
       "  IP Address  LoggedInFlag  ServerID  VisitPageFlagSum  VisitPageFlag\n",
       "0  0.0.108.2             0         1                 0              0\n",
       "1  0.0.109.6             1         1                 0              0\n",
       "2  0.0.111.8             0         3                 0              0\n",
       "3  0.0.160.9             1         2                 0              0\n",
       "4  0.0.163.1             0         2                 0              0"
      ]
     },
     "execution_count": 37,
     "metadata": {},
     "output_type": "execute_result"
    }
   ],
   "source": [
    "# Cоздаём булевый массив (True для ненулевых значений, False для нулей)\n",
    "df[\"VisitPageFlag\"] = (df[\"VisitPageFlagSum\"] != 0).astype(int)\n",
    "df.head()"
   ]
  },
  {
   "cell_type": "markdown",
   "metadata": {},
   "source": [
    "Test (1) → получает новую функцию, дизайн или изменения.  \n",
    "Control (2, 3) → остаётся на старой версии, чтобы сравнить результат.  \n"
   ]
  },
  {
   "cell_type": "markdown",
   "metadata": {},
   "source": [
    "Разделим датафрейм на тестовую (df_test) и контрольную (df_control) группы, создадим их копии с обновлёнными индексами в одном цикле для оптимизации."
   ]
  },
  {
   "cell_type": "code",
   "execution_count": 38,
   "metadata": {
    "execution": {
     "iopub.execute_input": "2025-02-27T15:36:33.107421Z",
     "iopub.status.busy": "2025-02-27T15:36:33.107045Z",
     "iopub.status.idle": "2025-02-27T15:36:33.161105Z",
     "shell.execute_reply": "2025-02-27T15:36:33.159758Z",
     "shell.execute_reply.started": "2025-02-27T15:36:33.107390Z"
    },
    "trusted": true
   },
   "outputs": [],
   "source": [
    "df['group'] = df['ServerID'].map({1: 'Test', 2: 'Control', 3: 'Control'})\n",
    "\n",
    "groups = {group: df[df['group'] == group].reset_index(drop=True) for group in ['Control', 'Test']}\n",
    "\n",
    "df_control = groups['Control']\n",
    "df_test = groups['Test']\n"
   ]
  },
  {
   "cell_type": "code",
   "execution_count": 39,
   "metadata": {
    "execution": {
     "iopub.execute_input": "2025-02-27T15:36:33.162781Z",
     "iopub.status.busy": "2025-02-27T15:36:33.162350Z",
     "iopub.status.idle": "2025-02-27T15:36:33.173467Z",
     "shell.execute_reply": "2025-02-27T15:36:33.172426Z",
     "shell.execute_reply.started": "2025-02-27T15:36:33.162727Z"
    },
    "trusted": true
   },
   "outputs": [
    {
     "data": {
      "text/html": [
       "<div>\n",
       "<style scoped>\n",
       "    .dataframe tbody tr th:only-of-type {\n",
       "        vertical-align: middle;\n",
       "    }\n",
       "\n",
       "    .dataframe tbody tr th {\n",
       "        vertical-align: top;\n",
       "    }\n",
       "\n",
       "    .dataframe thead th {\n",
       "        text-align: right;\n",
       "    }\n",
       "</style>\n",
       "<table border=\"1\" class=\"dataframe\">\n",
       "  <thead>\n",
       "    <tr style=\"text-align: right;\">\n",
       "      <th></th>\n",
       "      <th>IP Address</th>\n",
       "      <th>LoggedInFlag</th>\n",
       "      <th>ServerID</th>\n",
       "      <th>VisitPageFlagSum</th>\n",
       "      <th>VisitPageFlag</th>\n",
       "      <th>group</th>\n",
       "    </tr>\n",
       "  </thead>\n",
       "  <tbody>\n",
       "    <tr>\n",
       "      <th>0</th>\n",
       "      <td>0.0.111.8</td>\n",
       "      <td>0</td>\n",
       "      <td>3</td>\n",
       "      <td>0</td>\n",
       "      <td>0</td>\n",
       "      <td>Control</td>\n",
       "    </tr>\n",
       "    <tr>\n",
       "      <th>1</th>\n",
       "      <td>0.0.160.9</td>\n",
       "      <td>1</td>\n",
       "      <td>2</td>\n",
       "      <td>0</td>\n",
       "      <td>0</td>\n",
       "      <td>Control</td>\n",
       "    </tr>\n",
       "    <tr>\n",
       "      <th>2</th>\n",
       "      <td>0.0.163.1</td>\n",
       "      <td>0</td>\n",
       "      <td>2</td>\n",
       "      <td>0</td>\n",
       "      <td>0</td>\n",
       "      <td>Control</td>\n",
       "    </tr>\n",
       "    <tr>\n",
       "      <th>3</th>\n",
       "      <td>0.0.178.9</td>\n",
       "      <td>1</td>\n",
       "      <td>2</td>\n",
       "      <td>0</td>\n",
       "      <td>0</td>\n",
       "      <td>Control</td>\n",
       "    </tr>\n",
       "    <tr>\n",
       "      <th>4</th>\n",
       "      <td>0.0.185.4</td>\n",
       "      <td>1</td>\n",
       "      <td>3</td>\n",
       "      <td>0</td>\n",
       "      <td>0</td>\n",
       "      <td>Control</td>\n",
       "    </tr>\n",
       "  </tbody>\n",
       "</table>\n",
       "</div>"
      ],
      "text/plain": [
       "  IP Address  LoggedInFlag  ServerID  VisitPageFlagSum  VisitPageFlag    group\n",
       "0  0.0.111.8             0         3                 0              0  Control\n",
       "1  0.0.160.9             1         2                 0              0  Control\n",
       "2  0.0.163.1             0         2                 0              0  Control\n",
       "3  0.0.178.9             1         2                 0              0  Control\n",
       "4  0.0.185.4             1         3                 0              0  Control"
      ]
     },
     "execution_count": 39,
     "metadata": {},
     "output_type": "execute_result"
    }
   ],
   "source": [
    "df_control.head()"
   ]
  },
  {
   "cell_type": "code",
   "execution_count": 40,
   "metadata": {
    "execution": {
     "iopub.execute_input": "2025-02-27T15:36:33.174748Z",
     "iopub.status.busy": "2025-02-27T15:36:33.174447Z",
     "iopub.status.idle": "2025-02-27T15:36:33.203727Z",
     "shell.execute_reply": "2025-02-27T15:36:33.202475Z",
     "shell.execute_reply.started": "2025-02-27T15:36:33.174722Z"
    },
    "trusted": true
   },
   "outputs": [
    {
     "data": {
      "text/html": [
       "<div>\n",
       "<style scoped>\n",
       "    .dataframe tbody tr th:only-of-type {\n",
       "        vertical-align: middle;\n",
       "    }\n",
       "\n",
       "    .dataframe tbody tr th {\n",
       "        vertical-align: top;\n",
       "    }\n",
       "\n",
       "    .dataframe thead th {\n",
       "        text-align: right;\n",
       "    }\n",
       "</style>\n",
       "<table border=\"1\" class=\"dataframe\">\n",
       "  <thead>\n",
       "    <tr style=\"text-align: right;\">\n",
       "      <th></th>\n",
       "      <th>IP Address</th>\n",
       "      <th>LoggedInFlag</th>\n",
       "      <th>ServerID</th>\n",
       "      <th>VisitPageFlagSum</th>\n",
       "      <th>VisitPageFlag</th>\n",
       "      <th>group</th>\n",
       "    </tr>\n",
       "  </thead>\n",
       "  <tbody>\n",
       "    <tr>\n",
       "      <th>0</th>\n",
       "      <td>0.0.108.2</td>\n",
       "      <td>0</td>\n",
       "      <td>1</td>\n",
       "      <td>0</td>\n",
       "      <td>0</td>\n",
       "      <td>Test</td>\n",
       "    </tr>\n",
       "    <tr>\n",
       "      <th>1</th>\n",
       "      <td>0.0.109.6</td>\n",
       "      <td>1</td>\n",
       "      <td>1</td>\n",
       "      <td>0</td>\n",
       "      <td>0</td>\n",
       "      <td>Test</td>\n",
       "    </tr>\n",
       "    <tr>\n",
       "      <th>2</th>\n",
       "      <td>0.0.169.1</td>\n",
       "      <td>1</td>\n",
       "      <td>1</td>\n",
       "      <td>0</td>\n",
       "      <td>0</td>\n",
       "      <td>Test</td>\n",
       "    </tr>\n",
       "    <tr>\n",
       "      <th>3</th>\n",
       "      <td>0.0.181.9</td>\n",
       "      <td>0</td>\n",
       "      <td>1</td>\n",
       "      <td>1</td>\n",
       "      <td>1</td>\n",
       "      <td>Test</td>\n",
       "    </tr>\n",
       "    <tr>\n",
       "      <th>4</th>\n",
       "      <td>0.0.195.5</td>\n",
       "      <td>1</td>\n",
       "      <td>1</td>\n",
       "      <td>0</td>\n",
       "      <td>0</td>\n",
       "      <td>Test</td>\n",
       "    </tr>\n",
       "  </tbody>\n",
       "</table>\n",
       "</div>"
      ],
      "text/plain": [
       "  IP Address  LoggedInFlag  ServerID  VisitPageFlagSum  VisitPageFlag group\n",
       "0  0.0.108.2             0         1                 0              0  Test\n",
       "1  0.0.109.6             1         1                 0              0  Test\n",
       "2  0.0.169.1             1         1                 0              0  Test\n",
       "3  0.0.181.9             0         1                 1              1  Test\n",
       "4  0.0.195.5             1         1                 0              0  Test"
      ]
     },
     "execution_count": 40,
     "metadata": {},
     "output_type": "execute_result"
    }
   ],
   "source": [
    "df_test.head()"
   ]
  },
  {
   "cell_type": "code",
   "execution_count": 41,
   "metadata": {
    "execution": {
     "iopub.execute_input": "2025-02-27T15:36:33.205267Z",
     "iopub.status.busy": "2025-02-27T15:36:33.204858Z",
     "iopub.status.idle": "2025-02-27T15:36:33.243851Z",
     "shell.execute_reply": "2025-02-27T15:36:33.242840Z",
     "shell.execute_reply.started": "2025-02-27T15:36:33.205225Z"
    },
    "trusted": true
   },
   "outputs": [
    {
     "data": {
      "text/html": [
       "<div>\n",
       "<style scoped>\n",
       "    .dataframe tbody tr th:only-of-type {\n",
       "        vertical-align: middle;\n",
       "    }\n",
       "\n",
       "    .dataframe tbody tr th {\n",
       "        vertical-align: top;\n",
       "    }\n",
       "\n",
       "    .dataframe thead th {\n",
       "        text-align: right;\n",
       "    }\n",
       "</style>\n",
       "<table border=\"1\" class=\"dataframe\">\n",
       "  <thead>\n",
       "    <tr style=\"text-align: right;\">\n",
       "      <th></th>\n",
       "      <th>count</th>\n",
       "      <th>mean</th>\n",
       "      <th>std</th>\n",
       "      <th>min</th>\n",
       "      <th>25%</th>\n",
       "      <th>50%</th>\n",
       "      <th>75%</th>\n",
       "      <th>max</th>\n",
       "    </tr>\n",
       "  </thead>\n",
       "  <tbody>\n",
       "    <tr>\n",
       "      <th>LoggedInFlag</th>\n",
       "      <td>66460.0</td>\n",
       "      <td>0.503912</td>\n",
       "      <td>0.499988</td>\n",
       "      <td>0.0</td>\n",
       "      <td>0.0</td>\n",
       "      <td>1.0</td>\n",
       "      <td>1.0</td>\n",
       "      <td>1.0</td>\n",
       "    </tr>\n",
       "    <tr>\n",
       "      <th>ServerID</th>\n",
       "      <td>66460.0</td>\n",
       "      <td>2.500692</td>\n",
       "      <td>0.500003</td>\n",
       "      <td>2.0</td>\n",
       "      <td>2.0</td>\n",
       "      <td>3.0</td>\n",
       "      <td>3.0</td>\n",
       "      <td>3.0</td>\n",
       "    </tr>\n",
       "    <tr>\n",
       "      <th>VisitPageFlagSum</th>\n",
       "      <td>66460.0</td>\n",
       "      <td>0.098917</td>\n",
       "      <td>0.320759</td>\n",
       "      <td>0.0</td>\n",
       "      <td>0.0</td>\n",
       "      <td>0.0</td>\n",
       "      <td>0.0</td>\n",
       "      <td>3.0</td>\n",
       "    </tr>\n",
       "    <tr>\n",
       "      <th>VisitPageFlag</th>\n",
       "      <td>66460.0</td>\n",
       "      <td>0.092251</td>\n",
       "      <td>0.289382</td>\n",
       "      <td>0.0</td>\n",
       "      <td>0.0</td>\n",
       "      <td>0.0</td>\n",
       "      <td>0.0</td>\n",
       "      <td>1.0</td>\n",
       "    </tr>\n",
       "  </tbody>\n",
       "</table>\n",
       "</div>"
      ],
      "text/plain": [
       "                    count      mean       std  min  25%  50%  75%  max\n",
       "LoggedInFlag      66460.0  0.503912  0.499988  0.0  0.0  1.0  1.0  1.0\n",
       "ServerID          66460.0  2.500692  0.500003  2.0  2.0  3.0  3.0  3.0\n",
       "VisitPageFlagSum  66460.0  0.098917  0.320759  0.0  0.0  0.0  0.0  3.0\n",
       "VisitPageFlag     66460.0  0.092251  0.289382  0.0  0.0  0.0  0.0  1.0"
      ]
     },
     "execution_count": 41,
     "metadata": {},
     "output_type": "execute_result"
    }
   ],
   "source": [
    "df_control.describe().T # Транспонируем"
   ]
  },
  {
   "cell_type": "code",
   "execution_count": 42,
   "metadata": {
    "execution": {
     "iopub.execute_input": "2025-02-27T15:36:33.245629Z",
     "iopub.status.busy": "2025-02-27T15:36:33.245212Z",
     "iopub.status.idle": "2025-02-27T15:36:33.273024Z",
     "shell.execute_reply": "2025-02-27T15:36:33.272000Z",
     "shell.execute_reply.started": "2025-02-27T15:36:33.245589Z"
    },
    "trusted": true
   },
   "outputs": [
    {
     "data": {
      "text/html": [
       "<div>\n",
       "<style scoped>\n",
       "    .dataframe tbody tr th:only-of-type {\n",
       "        vertical-align: middle;\n",
       "    }\n",
       "\n",
       "    .dataframe tbody tr th {\n",
       "        vertical-align: top;\n",
       "    }\n",
       "\n",
       "    .dataframe thead th {\n",
       "        text-align: right;\n",
       "    }\n",
       "</style>\n",
       "<table border=\"1\" class=\"dataframe\">\n",
       "  <thead>\n",
       "    <tr style=\"text-align: right;\">\n",
       "      <th></th>\n",
       "      <th>count</th>\n",
       "      <th>mean</th>\n",
       "      <th>std</th>\n",
       "      <th>min</th>\n",
       "      <th>25%</th>\n",
       "      <th>50%</th>\n",
       "      <th>75%</th>\n",
       "      <th>max</th>\n",
       "    </tr>\n",
       "  </thead>\n",
       "  <tbody>\n",
       "    <tr>\n",
       "      <th>LoggedInFlag</th>\n",
       "      <td>33303.0</td>\n",
       "      <td>0.503258</td>\n",
       "      <td>0.499997</td>\n",
       "      <td>0.0</td>\n",
       "      <td>0.0</td>\n",
       "      <td>1.0</td>\n",
       "      <td>1.0</td>\n",
       "      <td>1.0</td>\n",
       "    </tr>\n",
       "    <tr>\n",
       "      <th>ServerID</th>\n",
       "      <td>33303.0</td>\n",
       "      <td>1.000000</td>\n",
       "      <td>0.000000</td>\n",
       "      <td>1.0</td>\n",
       "      <td>1.0</td>\n",
       "      <td>1.0</td>\n",
       "      <td>1.0</td>\n",
       "      <td>1.0</td>\n",
       "    </tr>\n",
       "    <tr>\n",
       "      <th>VisitPageFlagSum</th>\n",
       "      <td>33303.0</td>\n",
       "      <td>0.125094</td>\n",
       "      <td>0.359371</td>\n",
       "      <td>0.0</td>\n",
       "      <td>0.0</td>\n",
       "      <td>0.0</td>\n",
       "      <td>0.0</td>\n",
       "      <td>4.0</td>\n",
       "    </tr>\n",
       "    <tr>\n",
       "      <th>VisitPageFlag</th>\n",
       "      <td>33303.0</td>\n",
       "      <td>0.115515</td>\n",
       "      <td>0.319647</td>\n",
       "      <td>0.0</td>\n",
       "      <td>0.0</td>\n",
       "      <td>0.0</td>\n",
       "      <td>0.0</td>\n",
       "      <td>1.0</td>\n",
       "    </tr>\n",
       "  </tbody>\n",
       "</table>\n",
       "</div>"
      ],
      "text/plain": [
       "                    count      mean       std  min  25%  50%  75%  max\n",
       "LoggedInFlag      33303.0  0.503258  0.499997  0.0  0.0  1.0  1.0  1.0\n",
       "ServerID          33303.0  1.000000  0.000000  1.0  1.0  1.0  1.0  1.0\n",
       "VisitPageFlagSum  33303.0  0.125094  0.359371  0.0  0.0  0.0  0.0  4.0\n",
       "VisitPageFlag     33303.0  0.115515  0.319647  0.0  0.0  0.0  0.0  1.0"
      ]
     },
     "execution_count": 42,
     "metadata": {},
     "output_type": "execute_result"
    }
   ],
   "source": [
    "df_test.describe().T"
   ]
  },
  {
   "cell_type": "markdown",
   "metadata": {},
   "source": [
    "Посчитаем общее число посещений в контрольной группе.\n",
    "Сколько пользователей совершили целевое действие (VisitPageFlag = 1). "
   ]
  },
  {
   "cell_type": "code",
   "execution_count": 43,
   "metadata": {
    "execution": {
     "iopub.execute_input": "2025-02-27T15:36:33.274363Z",
     "iopub.status.busy": "2025-02-27T15:36:33.274062Z",
     "iopub.status.idle": "2025-02-27T15:36:33.384431Z",
     "shell.execute_reply": "2025-02-27T15:36:33.383325Z",
     "shell.execute_reply.started": "2025-02-27T15:36:33.274337Z"
    },
    "trusted": true
   },
   "outputs": [
    {
     "name": "stdout",
     "output_type": "stream",
     "text": [
      "Sum visit for control group: 66460\n",
      "Visit Page target = 1: 6131\n"
     ]
    },
    {
     "data": {
      "text/plain": [
       "<Axes: ylabel='count'>"
      ]
     },
     "execution_count": 43,
     "metadata": {},
     "output_type": "execute_result"
    },
    {
     "data": {
      "image/png": "[encoded data removed]",
      "text/plain": [
       "<Figure size 640x480 with 1 Axes>"
      ]
     },
     "metadata": {},
     "output_type": "display_data"
    }
   ],
   "source": [
    "control_sum_visit, control_visit_1 = df_control['VisitPageFlag'].agg(['count', lambda x: (x == 1).sum()])\n",
    "print(f\"Sum visit for control group: {control_sum_visit}\")\n",
    "print(f\"Visit Page target = 1: {control_visit_1}\")\n",
    "df[\"VisitPageFlag\"].value_counts().plot(kind=\"pie\", autopct=\"%.2f%%\")"
   ]
  },
  {
   "cell_type": "markdown",
   "metadata": {},
   "source": [
    "Посчитаем конверсию в контрольной группе:"
   ]
  },
  {
   "cell_type": "code",
   "execution_count": 44,
   "metadata": {
    "execution": {
     "iopub.execute_input": "2025-02-27T15:36:33.385843Z",
     "iopub.status.busy": "2025-02-27T15:36:33.385439Z",
     "iopub.status.idle": "2025-02-27T15:36:33.391867Z",
     "shell.execute_reply": "2025-02-27T15:36:33.390790Z",
     "shell.execute_reply.started": "2025-02-27T15:36:33.385804Z"
    },
    "trusted": true
   },
   "outputs": [
    {
     "data": {
      "text/plain": [
       "0.0923"
      ]
     },
     "execution_count": 44,
     "metadata": {},
     "output_type": "execute_result"
    }
   ],
   "source": [
    "control_ratio_visit = control_visit_1/control_sum_visit\n",
    "round(control_ratio_visit, 4)"
   ]
  },
  {
   "cell_type": "markdown",
   "metadata": {},
   "source": [
    "Посчитаем общее число посещений в тестовой группе.\n",
    "Сколько пользователей совершили целевое действие (VisitPageFlag = 1). "
   ]
  },
  {
   "cell_type": "code",
   "execution_count": 45,
   "metadata": {
    "execution": {
     "iopub.execute_input": "2025-02-27T15:36:33.393270Z",
     "iopub.status.busy": "2025-02-27T15:36:33.392922Z",
     "iopub.status.idle": "2025-02-27T15:36:33.511504Z",
     "shell.execute_reply": "2025-02-27T15:36:33.510429Z",
     "shell.execute_reply.started": "2025-02-27T15:36:33.393243Z"
    },
    "trusted": true
   },
   "outputs": [
    {
     "name": "stdout",
     "output_type": "stream",
     "text": [
      "Sum visit for test group: 33303\n",
      "Visit Page target = 1: 3847\n"
     ]
    },
    {
     "data": {
      "text/plain": [
       "<Axes: ylabel='count'>"
      ]
     },
     "execution_count": 45,
     "metadata": {},
     "output_type": "execute_result"
    },
    {
     "data": {
      "image/png": "[encoded data removed]",
      "text/plain": [
       "<Figure size 640x480 with 1 Axes>"
      ]
     },
     "metadata": {},
     "output_type": "display_data"
    }
   ],
   "source": [
    "test_sum_visit, test_visit_1 = df_test['VisitPageFlag'].agg(['count', lambda x: (x == 1).sum()])\n",
    "print(f\"Sum visit for test group: {test_sum_visit}\")\n",
    "print(f\"Visit Page target = 1: {test_visit_1}\")\n",
    "df[\"VisitPageFlag\"].value_counts().plot(kind=\"pie\", autopct=\"%.2f%%\")"
   ]
  },
  {
   "cell_type": "code",
   "execution_count": 46,
   "metadata": {
    "execution": {
     "iopub.execute_input": "2025-02-27T15:36:33.512736Z",
     "iopub.status.busy": "2025-02-27T15:36:33.512438Z",
     "iopub.status.idle": "2025-02-27T15:36:33.518756Z",
     "shell.execute_reply": "2025-02-27T15:36:33.517743Z",
     "shell.execute_reply.started": "2025-02-27T15:36:33.512710Z"
    },
    "trusted": true
   },
   "outputs": [
    {
     "data": {
      "text/plain": [
       "0.1155"
      ]
     },
     "execution_count": 46,
     "metadata": {},
     "output_type": "execute_result"
    }
   ],
   "source": [
    "test_ratio_visit = test_visit_1/test_sum_visit\n",
    "round(test_ratio_visit, 4)\n"
   ]
  },
  {
   "cell_type": "markdown",
   "metadata": {},
   "source": [
    "Выполним тест Шапиро-Уилка на нормальность распределения значений в столбце \"VisitPageFlag\" из контрольной группы (df_control).\n",
    "Подсчитаем test_stat в тесте Шапиро-Уилка, числовой показатель, который измеряет, насколько сильно распределение данных отклоняется от нормального.\n",
    "\n",
    "Если test_stat близок к 1 → распределение почти нормальное.\n",
    "Если test_stat значительно меньше 1 → данные сильно отклоняются от нормального распределения."
   ]
  },
  {
   "cell_type": "code",
   "execution_count": 47,
   "metadata": {
    "execution": {
     "iopub.execute_input": "2025-02-27T15:36:33.520348Z",
     "iopub.status.busy": "2025-02-27T15:36:33.519914Z",
     "iopub.status.idle": "2025-02-27T15:36:33.545922Z",
     "shell.execute_reply": "2025-02-27T15:36:33.544383Z",
     "shell.execute_reply.started": "2025-02-27T15:36:33.520308Z"
    },
    "trusted": true
   },
   "outputs": [
    {
     "name": "stdout",
     "output_type": "stream",
     "text": [
      "Control Group: Test Stat = 0.3267, p-value = 0.0000\n",
      "Данные НЕ являются нормально распределёнными.\n",
      "--------------------------------------------------\n",
      "Test Group: Test Stat = 0.3711, p-value = 0.0000\n",
      "Данные НЕ являются нормально распределёнными.\n",
      "--------------------------------------------------\n"
     ]
    },
    {
     "name": "stderr",
     "output_type": "stream",
     "text": [
      "/usr/local/lib/python3.10/dist-packages/scipy/stats/_axis_nan_policy.py:531: UserWarning: scipy.stats.shapiro: For N > 5000, computed p-value may not be accurate. Current N is 66460.\n",
      "  res = hypotest_fun_out(*samples, **kwds)\n",
      "/usr/local/lib/python3.10/dist-packages/scipy/stats/_axis_nan_policy.py:531: UserWarning: scipy.stats.shapiro: For N > 5000, computed p-value may not be accurate. Current N is 33303.\n",
      "  res = hypotest_fun_out(*samples, **kwds)\n"
     ]
    }
   ],
   "source": [
    "from scipy.stats import shapiro\n",
    "\n",
    "# Функция для теста Шапиро-Уилка и интерпретации результата\n",
    "def check_normality(data, label=\"Dataset\"):\n",
    "    test_stat, pvalue = shapiro(data)\n",
    "    print(f\"{label}: Test Stat = {test_stat:.4f}, p-value = {pvalue:.4f}\")\n",
    "    print(\"Данные нормально распределены.\" if pvalue > 0.05 else \"Данные НЕ являются нормально распределёнными.\")\n",
    "    print(\"-\" * 50)\n",
    "\n",
    "# Проверяем обе выборки\n",
    "check_normality(df_control[\"VisitPageFlag\"], \"Control Group\")\n",
    "check_normality(df_test[\"VisitPageFlag\"], \"Test Group\")\n"
   ]
  },
  {
   "cell_type": "markdown",
   "metadata": {},
   "source": [
    "Оба значения Test Stat значительно меньше 1, что указывает на сильное отклонение от нормального распределения.\n",
    "\n",
    "Будем использовать непараметрические тесты вместо t-теста (Манна-Уитни).\n"
   ]
  },
  {
   "cell_type": "code",
   "execution_count": 48,
   "metadata": {
    "execution": {
     "iopub.execute_input": "2025-02-27T15:36:33.547389Z",
     "iopub.status.busy": "2025-02-27T15:36:33.547007Z",
     "iopub.status.idle": "2025-02-27T15:36:33.561051Z",
     "shell.execute_reply": "2025-02-27T15:36:33.559571Z",
     "shell.execute_reply.started": "2025-02-27T15:36:33.547347Z"
    },
    "trusted": true
   },
   "outputs": [
    {
     "name": "stdout",
     "output_type": "stream",
     "text": [
      "Control Group vs Test Group: Test Stat = 1080913226.5000, p-value = 0.0000\n"
     ]
    }
   ],
   "source": [
    "# Функция для теста Манна-Уитни\n",
    "def mann_whitney_test(group1, group2, label1=\"Control\", label2=\"Test\"):\n",
    "    test_stat, pvalue = mannwhitneyu(group1, group2)\n",
    "    print(f\"{label1} vs {label2}: Test Stat = {test_stat:.4f}, p-value = {pvalue:.4f}\")\n",
    "\n",
    "mann_whitney_test(df_control[\"VisitPageFlag\"], df_test[\"VisitPageFlag\"], \"Control Group\", \"Test Group\")\n"
   ]
  },
  {
   "cell_type": "markdown",
   "metadata": {},
   "source": [
    "Интересно всё же попробовать провести Т-тест:"
   ]
  },
  {
   "cell_type": "code",
   "execution_count": 49,
   "metadata": {
    "execution": {
     "iopub.execute_input": "2025-02-27T15:36:33.562613Z",
     "iopub.status.busy": "2025-02-27T15:36:33.562215Z",
     "iopub.status.idle": "2025-02-27T15:36:33.572632Z",
     "shell.execute_reply": "2025-02-27T15:36:33.571268Z",
     "shell.execute_reply.started": "2025-02-27T15:36:33.562579Z"
    },
    "trusted": true
   },
   "outputs": [
    {
     "name": "stdout",
     "output_type": "stream",
     "text": [
      "T-test: Test Stat = -11.1825, p-value = 0.0000\n"
     ]
    }
   ],
   "source": [
    "# Выполняем t-тест для независимых выборок\n",
    "test_stat, pvalue = ttest_ind(df_control[\"VisitPageFlag\"], df_test[\"VisitPageFlag\"], equal_var=False)\n",
    "print(f\"T-test: Test Stat = {test_stat:.4f}, p-value = {pvalue:.4f}\")\n"
   ]
  },
  {
   "cell_type": "markdown",
   "metadata": {},
   "source": [
    "Создадим кросс-таблицу"
   ]
  },
  {
   "cell_type": "code",
   "execution_count": 50,
   "metadata": {
    "execution": {
     "iopub.execute_input": "2025-02-27T15:36:33.574181Z",
     "iopub.status.busy": "2025-02-27T15:36:33.573745Z",
     "iopub.status.idle": "2025-02-27T15:36:33.654470Z",
     "shell.execute_reply": "2025-02-27T15:36:33.653420Z",
     "shell.execute_reply.started": "2025-02-27T15:36:33.574141Z"
    },
    "trusted": true
   },
   "outputs": [
    {
     "data": {
      "text/html": [
       "<div>\n",
       "<style scoped>\n",
       "    .dataframe tbody tr th:only-of-type {\n",
       "        vertical-align: middle;\n",
       "    }\n",
       "\n",
       "    .dataframe tbody tr th {\n",
       "        vertical-align: top;\n",
       "    }\n",
       "\n",
       "    .dataframe thead th {\n",
       "        text-align: right;\n",
       "    }\n",
       "</style>\n",
       "<table border=\"1\" class=\"dataframe\">\n",
       "  <thead>\n",
       "    <tr style=\"text-align: right;\">\n",
       "      <th>VisitPageFlag</th>\n",
       "      <th>0</th>\n",
       "      <th>1</th>\n",
       "      <th>Total</th>\n",
       "    </tr>\n",
       "    <tr>\n",
       "      <th>group</th>\n",
       "      <th></th>\n",
       "      <th></th>\n",
       "      <th></th>\n",
       "    </tr>\n",
       "  </thead>\n",
       "  <tbody>\n",
       "    <tr>\n",
       "      <th>Control</th>\n",
       "      <td>90.774902</td>\n",
       "      <td>9.225098</td>\n",
       "      <td>100.0</td>\n",
       "    </tr>\n",
       "    <tr>\n",
       "      <th>Test</th>\n",
       "      <td>88.448488</td>\n",
       "      <td>11.551512</td>\n",
       "      <td>100.0</td>\n",
       "    </tr>\n",
       "    <tr>\n",
       "      <th>Total</th>\n",
       "      <td>89.998296</td>\n",
       "      <td>10.001704</td>\n",
       "      <td>100.0</td>\n",
       "    </tr>\n",
       "  </tbody>\n",
       "</table>\n",
       "</div>"
      ],
      "text/plain": [
       "VisitPageFlag          0          1  Total\n",
       "group                                     \n",
       "Control        90.774902   9.225098  100.0\n",
       "Test           88.448488  11.551512  100.0\n",
       "Total          89.998296  10.001704  100.0"
      ]
     },
     "execution_count": 50,
     "metadata": {},
     "output_type": "execute_result"
    }
   ],
   "source": [
    "groupped = pd.crosstab(\n",
    "    df['group'], df['VisitPageFlag'], margins=True, margins_name=\"Total\"\n",
    ")\n",
    "percent_distribution = 100 * groupped.div(groupped['Total'], axis=0)\n",
    "\n",
    "percent_distribution\n"
   ]
  },
  {
   "cell_type": "code",
   "execution_count": 51,
   "metadata": {
    "execution": {
     "iopub.execute_input": "2025-02-27T15:36:33.655839Z",
     "iopub.status.busy": "2025-02-27T15:36:33.655542Z",
     "iopub.status.idle": "2025-02-27T15:36:34.090623Z",
     "shell.execute_reply": "2025-02-27T15:36:34.089561Z",
     "shell.execute_reply.started": "2025-02-27T15:36:33.655814Z"
    },
    "trusted": true
   },
   "outputs": [
    {
     "data": {
      "image/png": "[encoded data removed]",
      "text/plain": [
       "<Figure size 600x500 with 1 Axes>"
      ]
     },
     "metadata": {},
     "output_type": "display_data"
    },
    {
     "data": {
      "image/png": "[encoded data removed]",
      "text/plain": [
       "<Figure size 600x500 with 1 Axes>"
      ]
     },
     "metadata": {},
     "output_type": "display_data"
    }
   ],
   "source": [
    "# Сделаем в графическом виде\n",
    "groupped = groupped[[1, 0]]\n",
    "groupped.plot(kind='bar', stacked=True, figsize=(6, 5), color=['orange', 'blue'], width=0.4)\n",
    "plt.title(\"Visit Page Distribution by Group\")\n",
    "plt.xlabel(\"Group\")\n",
    "plt.ylabel(\"Count\")\n",
    "plt.xticks(rotation=0)\n",
    "plt.legend(title=\"VisitPageFlag\", labels=[\"1\", \"0\"])  # Переименовали легенду\n",
    "plt.grid(axis='y', linestyle='--', alpha=0.7)\n",
    "plt.show()\n",
    "\n",
    "groupped_percentage = groupped.div(groupped.sum(axis=1), axis=0) * 100\n",
    "\n",
    "groupped_percentage = groupped_percentage[[1, 0]]\n",
    "\n",
    "ax = groupped_percentage.plot(kind='bar', stacked=True, figsize=(6, 5), color=['orange', 'blue'], width=0.4)\n",
    "\n",
    "plt.title(\"Visit Page Distribution by Group (Percentage)\")\n",
    "plt.xlabel(\"Group\")\n",
    "plt.ylabel(\"Percentage\")\n",
    "plt.xticks(rotation=0)\n",
    "plt.legend(title=\"VisitPageFlag\", labels=[\"1\", \"0\"])  \n",
    "plt.grid(axis='y', linestyle='--', alpha=0.7)\n",
    "\n",
    "for i, container in enumerate(ax.containers):\n",
    "    for bar in container:\n",
    "        height = bar.get_height()\n",
    "        if height > 0:\n",
    "            ax.text(bar.get_x() + bar.get_width()/2, bar.get_y() + height / 2, \n",
    "                    f'{height:.1f}%', ha='center', va='center', fontsize=10, color='white', fontweight='bold')\n",
    "\n",
    "plt.show()"
   ]
  },
  {
   "cell_type": "markdown",
   "metadata": {},
   "source": [
    "### Control Group:  \n",
    "90.77% пользователей не выполнили действие (VisitPageFlag = 0).\n",
    "9.23% пользователей выполнили (VisitPageFlag = 1).\n",
    "\n",
    "### Test Group:\n",
    "88.45% пользователей не выполнили действие.\n",
    "11.55% выполнили.\n",
    "\n",
    "### Общий итог (Total):\n",
    "\n",
    "В среднем по всем данным 89.99% пользователей не перешли.\n",
    "10.00% перешли."
   ]
  },
  {
   "cell_type": "markdown",
   "metadata": {},
   "source": [
    "### О чем это говорит?\n",
    "\n",
    "**В тестовой группе процент пользователей, выполнивших действие, выше**\n",
    "\n",
    " Рост с **9.23%** до **11.55%**.\n",
    " Разница составляет:    \n",
    "  `11.55% - 9.23% = 2.32%`.\n",
    "  \n",
    " Относительное улучшение (Uplift):   \n",
    "  `11.55 - 9.23/9.23 * 100 = 25.1%`\n",
    " \n",
    "  Это означает, что тестовое изменение увеличило выполнение целевого действия на **~25.1%**.\n",
    "\n",
    "**Тестовые изменения (новый вариант) оказали положительное влияние**\n",
    "\n",
    "Разница небольшая, но значимая (судя по результатам статистических тестов).  \n",
    "Если разница подтверждена **Манна-Уитни** и **t-тестом**, можно говорить о статистически значимом эффекте.  \n",
    " "
   ]
  },
  {
   "cell_type": "code",
   "execution_count": null,
   "metadata": {
    "trusted": true
   },
   "outputs": [],
   "source": []
  }
 ],
 "metadata": {
  "kaggle": {
   "accelerator": "none",
   "dataSources": [
    {
     "datasetId": 880353,
     "sourceId": 1498525,
     "sourceType": "datasetVersion"
    }
   ],
   "dockerImageVersionId": 30839,
   "isGpuEnabled": false,
   "isInternetEnabled": false,
   "language": "python",
   "sourceType": "notebook"
  },
  "kernelspec": {
   "display_name": "Python 3",
   "language": "python",
   "name": "python3"
  },
  "language_info": {
   "codemirror_mode": {
    "name": "ipython",
    "version": 3
   },
   "file_extension": ".py",
   "mimetype": "text/x-python",
   "name": "python",
   "nbconvert_exporter": "python",
   "pygments_lexer": "ipython3",
   "version": "3.10.12"
  }
 },
 "nbformat": 4,
 "nbformat_minor": 4
}
